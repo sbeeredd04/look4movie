{
 "cells": [
  {
   "cell_type": "code",
   "execution_count": null,
   "metadata": {},
   "outputs": [
    {
     "ename": "",
     "evalue": "",
     "output_type": "error",
     "traceback": [
      "\u001b[1;31mThe Kernel crashed while executing code in the current cell or a previous cell. \n",
      "\u001b[1;31mPlease review the code in the cell(s) to identify a possible cause of the failure. \n",
      "\u001b[1;31mClick <a href='https://aka.ms/vscodeJupyterKernelCrash'>here</a> for more info. \n",
      "\u001b[1;31mView Jupyter <a href='command:jupyter.viewOutput'>log</a> for further details."
     ]
    }
   ],
   "source": [
    "import pandas as pd\n",
    "\n",
    "# Load the datasets\n",
    "final_movies = pd.read_csv('Data/final_dataset.csv')\n",
    "new_ratings = pd.read_csv('Data/ratings.csv')\n",
    "genome = pd.read_csv('Data/new_genome.csv')\n",
    "\n",
    "# Merge the genome dataset with the final_movies dataset on movieId\n",
    "genome_merged = pd.merge(genome, final_movies[['movieId', 'title', 'genres']], on='movieId')\n",
    "\n",
    "# Prepare the collaborative filtering data\n",
    "collab_data = new_ratings[['userId', 'movieId', 'rating']]\n",
    "\n",
    "# Prepare the content-based filtering data\n",
    "content_data = genome_merged[['movieId', 'title', 'genres', 'tagId', 'relevance']]\n",
    "\n",
    "# Ensure no missing values\n",
    "collab_data = collab_data.dropna()\n",
    "content_data = content_data.dropna()\n"
   ]
  }
 ],
 "metadata": {
  "kernelspec": {
   "display_name": "Python 3",
   "language": "python",
   "name": "python3"
  },
  "language_info": {
   "codemirror_mode": {
    "name": "ipython",
    "version": 3
   },
   "file_extension": ".py",
   "mimetype": "text/x-python",
   "name": "python",
   "nbconvert_exporter": "python",
   "pygments_lexer": "ipython3",
   "version": "3.10.13"
  }
 },
 "nbformat": 4,
 "nbformat_minor": 2
}
