{
 "cells": [
  {
   "cell_type": "markdown",
   "metadata": {},
   "source": [
    "\"\"\"\n",
    "**Data Preprocessing for Movie Lens Dataset**\n",
    "\n",
    "The Movie Lens dataset is a popular dataset used for recommendation systems and movie ratings analysis. This code aims to preprocess the dataset before further analysis or modeling.\n",
    "\n",
    "**Preprocessing Steps:**\n",
    "\n",
    "1. **Loading the dataset:** The code loads the Movie Lens dataset from a specific file path.\n",
    "\n",
    "2. **Handling missing values:** The code handles any missing values in the dataset by applying appropriate techniques such as imputation or removal.\n",
    "\n",
    "3. **Removing duplicates:** The code identifies and removes any duplicate entries in the dataset to ensure data integrity.\n",
    "\n",
    "4. **Encoding categorical variables:** The code encodes categorical variables in the dataset into numerical representations, making them suitable for analysis or modeling.\n",
    "\n",
    "5. **Scaling numerical variables:** The code scales numerical variables in the dataset to a common range, ensuring that they have a similar impact during analysis or modeling.\n",
    "\n",
    "By performing these preprocessing steps, the Movie Lens dataset is prepared for further analysis or modeling tasks.\n",
    "\n",
    "**Author:** [Your Name]\n",
    "\n",
    "**Date:** [Current Date]"
   ]
  },
  {
   "cell_type": "code",
   "execution_count": 1,
   "metadata": {
    "vscode": {
     "languageId": "markdown"
    }
   },
   "outputs": [],
   "source": [
    "#imports\n",
    "import pandas as pd"
   ]
  },
  {
   "cell_type": "code",
   "execution_count": 2,
   "metadata": {
    "vscode": {
     "languageId": "markdown"
    }
   },
   "outputs": [],
   "source": [
    "#Loading Dataset\n",
    "ratings = pd.read_csv('Data/ratings.csv')\n",
    "tags = pd.read_csv('Data/tags.csv')\n",
    "movies = pd.read_csv('Data/movies.csv')\n",
    "links = pd.read_csv('Data/links.csv')\n",
    "genome_scores = pd.read_csv('Data/genome-scores.csv')\n",
    "genome_tags = pd.read_csv('Data/genome-tags.csv')\n"
   ]
  }
 ],
 "metadata": {
  "kernelspec": {
   "display_name": "Python 3",
   "language": "python",
   "name": "python3"
  },
  "language_info": {
   "codemirror_mode": {
    "name": "ipython",
    "version": 3
   },
   "file_extension": ".py",
   "mimetype": "text/x-python",
   "name": "python",
   "nbconvert_exporter": "python",
   "pygments_lexer": "ipython3",
   "version": "3.10.13"
  }
 },
 "nbformat": 4,
 "nbformat_minor": 2
}
