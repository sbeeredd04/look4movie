{
 "cells": [
  {
   "cell_type": "code",
   "execution_count": 1,
   "metadata": {},
   "outputs": [
    {
     "name": "stderr",
     "output_type": "stream",
     "text": [
      "/workspaces/look4movie/myenv/lib/python3.10/site-packages/dask/dataframe/__init__.py:42: FutureWarning: \n",
      "Dask dataframe query planning is disabled because dask-expr is not installed.\n",
      "\n",
      "You can install it with `pip install dask[dataframe]` or `conda install dask`.\n",
      "This will raise in a future version.\n",
      "\n",
      "  warnings.warn(msg, FutureWarning)\n"
     ]
    }
   ],
   "source": [
    "import dask.dataframe as dd\n",
    "\n",
    "# Load the datasets\n",
    "final_movies = dd.read_csv('Data/final_dataset.csv')\n",
    "new_ratings = dd.read_csv('Data/ratings.csv')\n",
    "genome = dd.read_csv('Data/new_genome.csv')\n",
    "\n",
    "# Merge the genome dataset with the final_movies dataset on movieId\n",
    "genome_merged = dd.merge(genome, final_movies[['movieId', 'title', 'genres']], on='movieId')\n",
    "\n",
    "# Prepare the collaborative filtering data\n",
    "collab_data = new_ratings[['userId', 'movieId', 'rating']]\n",
    "\n",
    "# Prepare the content-based filtering data\n",
    "content_data = genome_merged[['movieId', 'title', 'genres', 'tagId', 'relevance']]\n",
    "\n",
    "# Ensure no missing values\n",
    "collab_data = collab_data.dropna()\n",
    "content_data = content_data.dropna()\n"
   ]
  },
  {
   "cell_type": "code",
   "execution_count": 2,
   "metadata": {},
   "outputs": [],
   "source": [
    "import dask.dataframe as dd\n",
    "import pandas as pd\n",
    "from sklearn.decomposition import TruncatedSVD\n",
    "from scipy.sparse import csr_matrix\n",
    "\n",
    "# Load the datasets\n",
    "new_ratings = dd.read_csv('Data/ratings.csv')\n",
    "\n",
    "# Convert 'movieId' to a categorical dtype and ensure known categories\n",
    "new_ratings['movieId'] = new_ratings['movieId'].astype('category').cat.as_known()\n"
   ]
  },
  {
   "cell_type": "code",
   "execution_count": 3,
   "metadata": {},
   "outputs": [],
   "source": [
    "# Use Dask's pivot_table to create a user-item ratings matrix\n",
    "ratings_matrix = new_ratings.pivot_table(index='userId', columns='movieId', values='rating')\n",
    "\n",
    "# Fill missing values with 0\n",
    "ratings_matrix = ratings_matrix.fillna(0)"
   ]
  },
  {
   "cell_type": "code",
   "execution_count": 4,
   "metadata": {},
   "outputs": [
    {
     "ename": "",
     "evalue": "",
     "output_type": "error",
     "traceback": [
      "\u001b[1;31mThe Kernel crashed while executing code in the current cell or a previous cell. \n",
      "\u001b[1;31mPlease review the code in the cell(s) to identify a possible cause of the failure. \n",
      "\u001b[1;31mClick <a href='https://aka.ms/vscodeJupyterKernelCrash'>here</a> for more info. \n",
      "\u001b[1;31mView Jupyter <a href='command:jupyter.viewOutput'>log</a> for further details."
     ]
    }
   ],
   "source": [
    "# Optimize Dask execution\n",
    "ratings_matrix = ratings_matrix.persist()\n",
    "\n",
    "# Convert the Dask DataFrame to a Pandas DataFrame\n",
    "ratings_matrix = ratings_matrix.compute()\n"
   ]
  },
  {
   "cell_type": "code",
   "execution_count": null,
   "metadata": {},
   "outputs": [],
   "source": [
    "# Convert the user-item matrix to a sparse matrix format\n",
    "ratings_sparse = csr_matrix(ratings_matrix.values)\n",
    "\n",
    "# Apply SVD\n",
    "svd = TruncatedSVD(n_components=50)\n",
    "svd_matrix = svd.fit_transform(ratings_sparse)\n"
   ]
  },
  {
   "cell_type": "code",
   "execution_count": null,
   "metadata": {},
   "outputs": [],
   "source": [
    "from sklearn.metrics.pairwise import cosine_similarity\n",
    "\n",
    "# One-hot encode genres\n",
    "genres_one_hot = final_movies['genres'].str.get_dummies(sep='|')\n",
    "\n",
    "# Create a genome relevance matrix\n",
    "genome_pivot = content_data.pivot(index='movieId', columns='tagId', values='relevance').fillna(0)\n",
    "\n",
    "# Combine genres and genome relevance\n",
    "content_matrix = pd.concat([genres_one_hot, genome_pivot], axis=1, join='inner')\n",
    "\n",
    "# Ensure the indices of final_movies match the content_matrix\n",
    "final_movies = final_movies[final_movies['movieId'].isin(content_matrix.index)]\n",
    "final_movies = final_movies.reset_index(drop=True)\n",
    "content_matrix = content_matrix.loc[final_movies['movieId']]\n",
    "\n",
    "# Compute cosine similarity matrix\n",
    "cosine_sim_content = cosine_similarity(content_matrix, content_matrix)\n"
   ]
  },
  {
   "cell_type": "code",
   "execution_count": null,
   "metadata": {},
   "outputs": [],
   "source": [
    "def hybrid_recommendations(user_id, movie_title=None, genre=None, n_recommendations=10):\n",
    "    recommendations = []\n",
    "    \n",
    "    # Collaborative Filtering Recommendations\n",
    "    if user_id is not None:\n",
    "        user_idx = ratings_matrix.index.get_loc(user_id)\n",
    "        user_ratings = svd_matrix[user_idx]\n",
    "        pred_ratings = svd.inverse_transform(user_ratings)\n",
    "        pred_ratings = pd.Series(pred_ratings, index=ratings_matrix.columns)\n",
    "        collab_recommendations = pred_ratings.sort_values(ascending=False).head(n_recommendations).index.tolist()\n",
    "        recommendations.extend(collab_recommendations)\n",
    "    \n",
    "    # Content-Based Recommendations by Movie\n",
    "    if movie_title:\n",
    "        idx = final_movies.index[final_movies['title'] == movie_title].tolist()[0]\n",
    "        sim_scores_content = list(enumerate(cosine_sim_content[idx]))\n",
    "        sim_scores = sorted(sim_scores_content, key=lambda x: x[1], reverse=True)\n",
    "        content_recommendations = [final_movies.iloc[i[0]]['title'] for i in sim_scores[1:n_recommendations+1]]\n",
    "        recommendations.extend(content_recommendations)\n",
    "    \n",
    "    # Content-Based Recommendations by Genre\n",
    "    if genre:\n",
    "        genre_idx = final_movies.index[final_movies['genres'].apply(lambda x: genre in x.split('|'))].tolist()\n",
    "        sim_scores_genres = cosine_sim_content[genre_idx].mean(axis=0)\n",
    "        sim_scores = sorted(list(enumerate(sim_scores_genres)), key=lambda x: x[1], reverse=True)\n",
    "        genre_recommendations = [final_movies.iloc[i[0]]['title'] for i in sim_scores[1:n_recommendations+1]]\n",
    "        recommendations.extend(genre_recommendations)\n",
    "    \n",
    "    # Combine and deduplicate recommendations\n",
    "    recommendations = list(dict.fromkeys(recommendations))\n",
    "    return recommendations[:n_recommendations]\n",
    "\n",
    "# Example usage\n",
    "user_id = 1\n",
    "recommendations = hybrid_recommendations(user_id=user_id, movie_title='Toy Story (1995)', n_recommendations=10)\n",
    "print(recommendations)\n"
   ]
  },
  {
   "cell_type": "code",
   "execution_count": null,
   "metadata": {},
   "outputs": [],
   "source": [
    "from sklearn.metrics import precision_score, recall_score, f1_score\n",
    "\n",
    "# Define function to compute evaluation metrics\n",
    "def evaluate_recommendations(y_true, y_pred):\n",
    "    precision = precision_score(y_true, y_pred, average='binary')\n",
    "    recall = recall_score(y_true, y_pred, average='binary')\n",
    "    f1 = f1_score(y_true, y_pred, average='binary')\n",
    "    return precision, recall, f1\n",
    "\n",
    "# Example evaluation\n",
    "y_true = [1, 0, 0, 1, 1]  # Actual preferences\n",
    "y_pred = [1, 1, 0, 1, 0]  # Predicted recommendations\n",
    "\n",
    "precision, recall, f1 = evaluate_recommendations(y_true, y_pred)\n",
    "print(f\"Precision: {precision}, Recall: {recall}, F1-score: {f1}\")\n"
   ]
  }
 ],
 "metadata": {
  "kernelspec": {
   "display_name": "Python 3",
   "language": "python",
   "name": "python3"
  },
  "language_info": {
   "codemirror_mode": {
    "name": "ipython",
    "version": 3
   },
   "file_extension": ".py",
   "mimetype": "text/x-python",
   "name": "python",
   "nbconvert_exporter": "python",
   "pygments_lexer": "ipython3",
   "version": "3.10.13"
  }
 },
 "nbformat": 4,
 "nbformat_minor": 2
}
